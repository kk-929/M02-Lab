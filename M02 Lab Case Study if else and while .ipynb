{
 "cells": [
  {
   "cell_type": "code",
   "execution_count": 18,
   "id": "f5ec134c",
   "metadata": {},
   "outputs": [
    {
     "name": "stdout",
     "output_type": "stream",
     "text": [
      "Enter student's last name (Enter 'ZZZ'to exit): ZZZ\n"
     ]
    }
   ],
   "source": [
    "#Program name: M02 Lab-Case Study: if, else, and while\n",
    "#Author: Makaila White\n",
    "#Description: This is a python app that will accept student names \n",
    "#and GPAs and test if the student qualifies for the Honor Roll or \n",
    "#the Dean's List. The app will do the following:\n",
    "#ask for and accept a student's last name.\n",
    "#quit processing student records if the last name entered is 'ZZZ'.\n",
    "#ask for and accept a student's first name.\n",
    "#ask for and accept the student's GPA as a float.\n",
    "#test if the student's GPA is 3.5 or greater and, if so, print a message saying that the student has made the Dean's List.\n",
    "#test if the student's GPA is 3.25 or greater and, if so, print a message saying that the studnet has made the Honor Roll.\n",
    "\n",
    "stud_lname = \" \" # student last name \n",
    "hrMin = 3.25 # honor roll min marker\n",
    "dlMin = 3.50 # dean's list  min marker\n",
    "\n",
    "while (stud_lname != \"ZZZ\"):\n",
    "\n",
    "    stud_lname = input(\"Enter student's last name (Enter 'ZZZ'to exit): \")\n",
    "    \n",
    "    if stud_lname == \"ZZZ\":\n",
    "        break\n",
    "    else: \n",
    "         GPA = float(input (\"Enter student's GPA: \"))\n",
    "    if GPA > 4.0: #input validation for too high GPA\n",
    "            print(\"The academic currency only goes up to a perfect 4.0\" , \n",
    "                  \"– no bonus points for overachieving dreams. \",\n",
    "                  \" Please enter a valid GPA.\")\n",
    "            GPA = float(input (\"Enter student's GPA: \"))\n",
    "    elif GPA < 0.0: #input validation for too low GPA\n",
    "            print (\"C'mon! Can't be that bad!\")\n",
    "            GPA = float(input (\"Enter student's GPA: \"))\n",
    "    elif GPA >= dlMin:\n",
    "            print(\"Congratulations! You have made the dean's list!\") \n",
    "    elif GPA >= hrMin:\n",
    "             print(\"Congratulations! You have made the honor roll!\") \n",
    "    else: \n",
    "            pass"
   ]
  },
  {
   "cell_type": "code",
   "execution_count": null,
   "id": "ab45a994",
   "metadata": {},
   "outputs": [],
   "source": []
  },
  {
   "cell_type": "code",
   "execution_count": null,
   "id": "35d24d65",
   "metadata": {},
   "outputs": [],
   "source": []
  },
  {
   "cell_type": "code",
   "execution_count": null,
   "id": "1b987fcf",
   "metadata": {},
   "outputs": [],
   "source": []
  }
 ],
 "metadata": {
  "kernelspec": {
   "display_name": "Python 3 (ipykernel)",
   "language": "python",
   "name": "python3"
  },
  "language_info": {
   "codemirror_mode": {
    "name": "ipython",
    "version": 3
   },
   "file_extension": ".py",
   "mimetype": "text/x-python",
   "name": "python",
   "nbconvert_exporter": "python",
   "pygments_lexer": "ipython3",
   "version": "3.11.5"
  }
 },
 "nbformat": 4,
 "nbformat_minor": 5
}
